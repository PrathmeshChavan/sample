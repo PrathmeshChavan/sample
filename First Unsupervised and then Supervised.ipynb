{
 "cells": [
  {
   "cell_type": "code",
   "execution_count": 1,
   "id": "aa45c8a3",
   "metadata": {},
   "outputs": [],
   "source": [
    "import pandas as pd\n",
    "import numpy as np\n",
    "import matplotlib.pyplot as plt\n",
    "import seaborn as sns\n",
    "sns.set_theme()\n",
    "import time\n",
    "import warnings\n",
    "warnings.filterwarnings(\"ignore\")\n",
    "\n",
    "from sklearn.model_selection import train_test_split\n",
    "\n",
    "from sklearn.metrics import classification_report\n",
    "\n",
    "from sklearn import metrics as mt\n",
    "from sklearn.cluster import KMeans"
   ]
  },
  {
   "cell_type": "code",
   "execution_count": 2,
   "id": "f3b219c2",
   "metadata": {},
   "outputs": [],
   "source": [
    "X_train=pd.read_csv(\"C://Bayesian work//x_train.csv\")\n",
    "X_test=pd.read_csv(\"C://Bayesian work//x_test.csv\")\n",
    "\n",
    "y_train=pd.read_csv(\"C://Bayesian work//y_train.csv\")\n",
    "y_test=pd.read_csv(\"C://Bayesian work//y_test.csv\")\n",
    "\n"
   ]
  },
  {
   "cell_type": "code",
   "execution_count": 3,
   "id": "87d8bb9c",
   "metadata": {},
   "outputs": [
    {
     "data": {
      "text/plain": [
       "Text(0, 0.5, 'WCSS')"
      ]
     },
     "execution_count": 3,
     "metadata": {},
     "output_type": "execute_result"
    },
    {
     "data": {
      "image/png": "[encoded data removed]",
      "text/plain": [
       "<Figure size 432x288 with 1 Axes>"
      ]
     },
     "metadata": {},
     "output_type": "display_data"
    }
   ],
   "source": [
    "wcss=[]\n",
    "for i in range(1,7):\n",
    "    \n",
    "    kmeans = KMeans(i)\n",
    "    kmeans.fit(X_train)\n",
    "    wcss_iter = kmeans.inertia_\n",
    "    wcss.append(wcss_iter)\n",
    "\n",
    "number_clusters = range(1,7)\n",
    "plt.plot(number_clusters,wcss)\n",
    "plt.title('The Elbow title')\n",
    "plt.xlabel('Number of clusters')\n",
    "plt.ylabel('WCSS')"
   ]
  },
  {
   "cell_type": "code",
   "execution_count": 4,
   "id": "44a07aea",
   "metadata": {},
   "outputs": [],
   "source": [
    "clustering = KMeans(n_clusters=2, random_state=8675309,n_jobs=-1)\n",
    "clustering.fit(X_train)\n",
    "\n",
    "train_labels = clustering.labels_\n",
    "\n",
    "X_train_clstrs = X_train.copy()\n",
    "X_train_clstrs['clusters'] = train_labels\n",
    "    \n",
    "\n",
    "test_labels = clustering.predict(X_test)\n",
    "\n",
    "X_test_clstrs = X_test.copy()\n",
    "X_test_clstrs['clusters'] = test_labels"
   ]
  },
  {
   "cell_type": "markdown",
   "id": "9a1c203b",
   "metadata": {},
   "source": [
    "# SCALING"
   ]
  },
  {
   "cell_type": "code",
   "execution_count": 5,
   "id": "8d66d1b0",
   "metadata": {},
   "outputs": [],
   "source": [
    "from sklearn.preprocessing import StandardScaler\n",
    "\n",
    "#Scaling the dataset with clusters\n",
    "scaler= StandardScaler()\n",
    "X_train_clstrs= scaler.fit_transform(X_train_clstrs)\n",
    "X_test_clstrs= scaler.transform(X_test_clstrs)\n",
    "\n",
    "#scaling the dataset without cluster feature\n",
    "scaler= StandardScaler()\n",
    "X_train= scaler.fit_transform(X_train)\n",
    "X_test= scaler.transform(X_test)"
   ]
  },
  {
   "cell_type": "markdown",
   "id": "9755b5cf",
   "metadata": {},
   "source": [
    "# WITHOUT CLUSTERING FEATURE"
   ]
  },
  {
   "cell_type": "code",
   "execution_count": 6,
   "id": "c2d1233a",
   "metadata": {},
   "outputs": [
    {
     "name": "stdout",
     "output_type": "stream",
     "text": [
      "[15:53:12] WARNING: C:/Users/Administrator/workspace/xgboost-win64_release_1.4.0/src/learner.cc:1095: Starting in XGBoost 1.3.0, the default evaluation metric used with the objective 'binary:logistic' was changed from 'error' to 'logloss'. Explicitly set eval_metric if you'd like to restore the old behavior.\n",
      "F-Beta Score : 0.979\n",
      "[[ 513   42]\n",
      " [  47 2111]]\n"
     ]
    }
   ],
   "source": [
    "from xgboost import XGBClassifier\n",
    "import sklearn.metrics as mt\n",
    "\n",
    "xgb = XGBClassifier()\n",
    "xgb.fit(X_train, y_train)\n",
    "\n",
    "y_pred3 = xgb.predict(X_test)\n",
    "\n",
    "\n",
    "print('F-Beta Score : {0:.3f}'.format(mt.fbeta_score(y_test, y_pred3, beta=2)))\n",
    "print(mt.confusion_matrix(y_test,y_pred3))"
   ]
  },
  {
   "cell_type": "markdown",
   "id": "e853d90d",
   "metadata": {},
   "source": [
    "# WITH CLUSTERING FEATURE"
   ]
  },
  {
   "cell_type": "code",
   "execution_count": 10,
   "id": "1c756a86",
   "metadata": {},
   "outputs": [
    {
     "name": "stdout",
     "output_type": "stream",
     "text": [
      "[15:53:58] WARNING: C:/Users/Administrator/workspace/xgboost-win64_release_1.4.0/src/learner.cc:1095: Starting in XGBoost 1.3.0, the default evaluation metric used with the objective 'binary:logistic' was changed from 'error' to 'logloss'. Explicitly set eval_metric if you'd like to restore the old behavior.\n",
      "F-Beta Score : 0.980\n",
      "[[ 520   35]\n",
      " [  45 2113]]\n"
     ]
    }
   ],
   "source": [
    "xgb = XGBClassifier()\n",
    "xgb.fit(X_train_clstrs, y_train)\n",
    "\n",
    "y_pred = xgb.predict(X_test_clstrs)\n",
    "\n",
    "\n",
    "print('F-Beta Score : {0:.3f}'.format(mt.fbeta_score(y_test, y_pred, beta=2)))\n",
    "print(mt.confusion_matrix(y_test,y_pred))"
   ]
  },
  {
   "cell_type": "code",
   "execution_count": null,
   "id": "94aec102",
   "metadata": {},
   "outputs": [],
   "source": []
  }
 ],
 "metadata": {
  "kernelspec": {
   "display_name": "Python 3",
   "language": "python",
   "name": "python3"
  },
  "language_info": {
   "codemirror_mode": {
    "name": "ipython",
    "version": 3
   },
   "file_extension": ".py",
   "mimetype": "text/x-python",
   "name": "python",
   "nbconvert_exporter": "python",
   "pygments_lexer": "ipython3",
   "version": "3.8.8"
  }
 },
 "nbformat": 4,
 "nbformat_minor": 5
}
